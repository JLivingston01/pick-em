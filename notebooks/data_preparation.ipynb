{
 "cells": [
  {
   "cell_type": "code",
   "execution_count": null,
   "metadata": {},
   "outputs": [],
   "source": [
    "#cp ../../../downloads/roster_2023.parquet notebooks/roster_2023.parquet\n",
    "#cp ../../../downloads/roster_2022.parquet notebooks/roster_2022.parquet\n",
    "#cp ../../../downloads/roster_2021.parquet notebooks/roster_2021.parquet\n",
    "#cp ../../../downloads/roster_2020.parquet notebooks/roster_2020.parquet\n",
    "#cp ../../../downloads/roster_2019.parquet notebooks/roster_2019.parquet\n",
    "#cp ../../../downloads/roster_2018.parquet notebooks/roster_2018.parquet\n",
    "#cp ../../../downloads/player_stats_2017.parquet notebooks/player_stats_2017.parquet\n",
    "#cp ../../../downloads/player_stats_2018.parquet notebooks/player_stats_2018.parquet\n",
    "#cp ../../../downloads/player_stats_2019.parquet notebooks/player_stats_2019.parquet\n",
    "#cp ../../../downloads/player_stats_2020.parquet notebooks/player_stats_2020.parquet\n",
    "#cp ../../../downloads/player_stats_2021.parquet notebooks/player_stats_2021.parquet\n",
    "#cp ../../../downloads/player_stats_2022.parquet notebooks/player_stats_2022.parquet\n",
    "#cp ../../../downloads/\"games.csv\" notebooks/games.csv"
   ]
  },
  {
   "cell_type": "code",
   "execution_count": 7,
   "metadata": {},
   "outputs": [],
   "source": [
    "import pandas as pd\n",
    "import numpy as np\n",
    "\n",
    "games = pd.read_csv('../data/games.csv')\n",
    "pd.set_option(\"display.max_columns\",55)"
   ]
  },
  {
   "cell_type": "code",
   "execution_count": 8,
   "metadata": {},
   "outputs": [],
   "source": [
    "#target_season_num = 2022\n",
    "\n",
    "def make_merge_frame(target_season_num):\n",
    "    rosters = pd.read_parquet(f\"../data/roster_{target_season_num}.parquet\")\n",
    "    stats = pd.read_parquet(f\"../data/player_stats_{target_season_num-1}.parquet\")\n",
    "    rosters['player_display_name'] = rosters['full_name'] \n",
    "    target_season = games[games['season']==target_season_num].copy()#[(games['season']==2023)&(games['week']==1)]\n",
    "\n",
    "    agg_stats = stats[stats['season_type']=='REG'].groupby(['player_display_name']).agg({\n",
    "        'completions':'mean',\n",
    "        'attempts':'mean',\n",
    "        'passing_yards':'mean',\n",
    "        'passing_tds':'mean',\n",
    "        'interceptions':'mean',\n",
    "        'sacks':'mean',\n",
    "        'sack_yards':'mean',\n",
    "        'sack_fumbles':'mean',\n",
    "        'sack_fumbles_lost':'mean',\n",
    "        'passing_air_yards':'mean',\n",
    "        'passing_yards_after_catch':'mean',\n",
    "        'passing_first_downs':'mean',\n",
    "        'passing_epa':'mean',\n",
    "        'passing_2pt_conversions':'mean',\n",
    "        'pacr':'mean',\n",
    "        'carries':'mean',\n",
    "        'rushing_yards':'mean',\n",
    "        'rushing_tds':'mean',\n",
    "        'rushing_fumbles':'mean',\n",
    "        'rushing_fumbles_lost':'mean',\n",
    "        'rushing_first_downs':'mean',\n",
    "        'rushing_epa':'mean',\n",
    "        'rushing_2pt_conversions':'mean',\n",
    "        'receptions':'mean',\n",
    "        'targets':'mean',\n",
    "        'receiving_yards':'mean',\n",
    "        'receiving_tds':'mean',\n",
    "        'receiving_fumbles':'mean',\n",
    "        'receiving_fumbles_lost':'mean',\n",
    "        'receiving_air_yards':'mean',\n",
    "        'receiving_yards_after_catch':'mean',\n",
    "        'receiving_first_downs':'mean',\n",
    "        'receiving_epa':'mean',\n",
    "        'receiving_2pt_conversions':'mean',\n",
    "        'racr':'mean',\n",
    "        'target_share':'mean',\n",
    "        'air_yards_share':'mean',\n",
    "        'wopr':'mean',\n",
    "        'special_teams_tds':'mean',\n",
    "        'fantasy_points':'mean',\n",
    "        'fantasy_points_ppr':'mean',\n",
    "        'week':'count'\n",
    "    }).reset_index()\n",
    "    agg_stats.rename({'week':'games'},axis=1,inplace=True)\n",
    "    agg_stats = pd.DataFrame(np.where(agg_stats==0,np.nan,agg_stats),columns=agg_stats.columns)\n",
    "    roster_stats = rosters.merge(agg_stats,on=['player_display_name'],how='inner')\n",
    "    team_stats = roster_stats.groupby(['team']).agg({\n",
    "        i:'sum' for i in agg_stats.columns if i not in ['player_display_name']\n",
    "    }).reset_index()\n",
    "    prep_frame = target_season[['week','away_team','home_team','away_score','home_score','result','spread_line']].copy()\n",
    "    away_team_stats = team_stats.copy()\n",
    "    home_team_stats = team_stats.copy()\n",
    "\n",
    "    away_team_stats.columns = ['away_'+i for i in team_stats.columns]\n",
    "    home_team_stats.columns = ['home_'+i for i in team_stats.columns]\n",
    "\n",
    "    merge = prep_frame.merge(away_team_stats,on='away_team',how='left').merge(home_team_stats,on='home_team',how='left')\n",
    "\n",
    "    merge['season'] = target_season_num\n",
    "    return merge"
   ]
  },
  {
   "cell_type": "code",
   "execution_count": 9,
   "metadata": {},
   "outputs": [],
   "source": [
    "\n",
    "\n",
    "merges = [make_merge_frame(target_season_num=i) for i in [2023,2022,2021,2020,2019,2018]]"
   ]
  },
  {
   "cell_type": "code",
   "execution_count": 10,
   "metadata": {},
   "outputs": [],
   "source": [
    "all_dat = pd.concat(merges)"
   ]
  },
  {
   "cell_type": "code",
   "execution_count": 12,
   "metadata": {},
   "outputs": [],
   "source": [
    "all_dat.to_csv(\"../data/model_data.csv\",index=False)"
   ]
  },
  {
   "cell_type": "code",
   "execution_count": null,
   "metadata": {},
   "outputs": [],
   "source": []
  },
  {
   "cell_type": "code",
   "execution_count": null,
   "metadata": {},
   "outputs": [],
   "source": []
  }
 ],
 "metadata": {
  "kernelspec": {
   "display_name": ".venv",
   "language": "python",
   "name": "python3"
  },
  "language_info": {
   "codemirror_mode": {
    "name": "ipython",
    "version": 3
   },
   "file_extension": ".py",
   "mimetype": "text/x-python",
   "name": "python",
   "nbconvert_exporter": "python",
   "pygments_lexer": "ipython3",
   "version": "3.11.3"
  },
  "orig_nbformat": 4
 },
 "nbformat": 4,
 "nbformat_minor": 2
}

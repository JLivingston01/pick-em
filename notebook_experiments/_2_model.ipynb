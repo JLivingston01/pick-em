{
 "cells": [
  {
   "cell_type": "code",
   "execution_count": 1,
   "metadata": {},
   "outputs": [],
   "source": [
    "import pandas as pd\n",
    "import numpy as np\n",
    "import matplotlib.pyplot as plt"
   ]
  },
  {
   "cell_type": "code",
   "execution_count": 2,
   "metadata": {},
   "outputs": [],
   "source": [
    "team_feats = pd.read_csv(\"../data/team_feats.csv\")\n",
    "games = pd.read_csv(\"../data/games.csv\")"
   ]
  },
  {
   "cell_type": "code",
   "execution_count": 3,
   "metadata": {},
   "outputs": [],
   "source": [
    "games=games[games['season']>=2017].copy()"
   ]
  },
  {
   "cell_type": "code",
   "execution_count": 4,
   "metadata": {},
   "outputs": [],
   "source": [
    "team_feats = pd.DataFrame(np.where(team_feats==0,np.nan,team_feats),\n",
    "                    columns=team_feats.columns,\n",
    "                    index=team_feats.index)"
   ]
  },
  {
   "cell_type": "code",
   "execution_count": 5,
   "metadata": {},
   "outputs": [],
   "source": [
    "home_feats = team_feats.copy()\n",
    "home_feats.columns = ['home_'+i for i in home_feats.columns]\n",
    "home_feats.rename(mapper={'home_season':'season'},axis=1,inplace=True)\n",
    "\n",
    "away_feats = team_feats.copy()\n",
    "away_feats.columns = ['away_'+i for i in away_feats.columns]\n",
    "away_feats.rename(mapper={'away_season':'season'},axis=1,inplace=True)"
   ]
  },
  {
   "cell_type": "code",
   "execution_count": 258,
   "metadata": {},
   "outputs": [],
   "source": [
    "merge = games.merge(home_feats,on=['season','home_team'],how='left').merge(away_feats,on=['season','away_team'],how='left')\n",
    "\n",
    "for col in [\n",
    "        i for i in home_feats.columns if i not in ('season','home_team')\n",
    "    ]:\n",
    "    other_col = col.replace('home_','away_')\n",
    "    new_col = col.replace('home_','diff_')\n",
    "    merge[new_col] = merge[col] - merge[other_col]\n",
    "\n",
    "all_feats = [\n",
    "    i for i in home_feats.columns if i not in ('season','home_team')\n",
    "] + [\n",
    "    i for i in away_feats.columns if i not in ('season','away_team')\n",
    "] + [\n",
    "    i for i in merge.columns if 'diff_' in i\n",
    "] + ['flg']\n",
    "target = 'outcome' \n",
    "target1 = 'result'\n",
    "\n",
    "merge['outcome'] = merge['result'] - merge['spread_line']\n",
    "\n",
    "merge['outcome_hm_beat'] = np.where(merge['outcome']>0,1,0)\n",
    "\n",
    "merge=merge.copy()\n",
    "merge['flg'] = 1\n",
    "\n",
    "merge[all_feats] = merge[all_feats].fillna(0)\n",
    "\n",
    "val_season = 2023\n",
    "train_seasons = list(range(2017,val_season))\n",
    "\n",
    "\n",
    "train = merge[merge['season'].isin(train_seasons)].copy()\n",
    "val = merge[merge['season']==val_season]\n",
    "\n",
    "meandiff = abs(train[train[target]<0][all_feats].mean()/\n",
    " train[train[target]>0][all_feats].mean() )\n",
    "f1 = list(meandiff.sort_values().tail(20).index)\n",
    "f2 = list(meandiff.sort_values().head(0).index)\n",
    "\n",
    "feats = ['flg']+f1+f2"
   ]
  },
  {
   "cell_type": "code",
   "execution_count": 259,
   "metadata": {},
   "outputs": [
    {
     "data": {
      "text/html": [
       "<div>\n",
       "<style scoped>\n",
       "    .dataframe tbody tr th:only-of-type {\n",
       "        vertical-align: middle;\n",
       "    }\n",
       "\n",
       "    .dataframe tbody tr th {\n",
       "        vertical-align: top;\n",
       "    }\n",
       "\n",
       "    .dataframe thead th {\n",
       "        text-align: right;\n",
       "    }\n",
       "</style>\n",
       "<table border=\"1\" class=\"dataframe\">\n",
       "  <thead>\n",
       "    <tr style=\"text-align: right;\">\n",
       "      <th></th>\n",
       "      <th>spread_line</th>\n",
       "      <th>result</th>\n",
       "      <th>outcome</th>\n",
       "      <th>outcome_hm_beat</th>\n",
       "    </tr>\n",
       "  </thead>\n",
       "  <tbody>\n",
       "    <tr>\n",
       "      <th>0</th>\n",
       "      <td>8.0</td>\n",
       "      <td>-15.0</td>\n",
       "      <td>-23.0</td>\n",
       "      <td>0</td>\n",
       "    </tr>\n",
       "    <tr>\n",
       "      <th>1</th>\n",
       "      <td>7.0</td>\n",
       "      <td>9.0</td>\n",
       "      <td>2.0</td>\n",
       "      <td>1</td>\n",
       "    </tr>\n",
       "    <tr>\n",
       "      <th>2</th>\n",
       "      <td>-6.5</td>\n",
       "      <td>-6.0</td>\n",
       "      <td>0.5</td>\n",
       "      <td>1</td>\n",
       "    </tr>\n",
       "    <tr>\n",
       "      <th>3</th>\n",
       "      <td>2.5</td>\n",
       "      <td>-20.0</td>\n",
       "      <td>-22.5</td>\n",
       "      <td>0</td>\n",
       "    </tr>\n",
       "    <tr>\n",
       "      <th>4</th>\n",
       "      <td>-10.0</td>\n",
       "      <td>-3.0</td>\n",
       "      <td>7.0</td>\n",
       "      <td>1</td>\n",
       "    </tr>\n",
       "    <tr>\n",
       "      <th>...</th>\n",
       "      <td>...</td>\n",
       "      <td>...</td>\n",
       "      <td>...</td>\n",
       "      <td>...</td>\n",
       "    </tr>\n",
       "    <tr>\n",
       "      <th>2191</th>\n",
       "      <td>NaN</td>\n",
       "      <td>NaN</td>\n",
       "      <td>NaN</td>\n",
       "      <td>0</td>\n",
       "    </tr>\n",
       "    <tr>\n",
       "      <th>2192</th>\n",
       "      <td>NaN</td>\n",
       "      <td>NaN</td>\n",
       "      <td>NaN</td>\n",
       "      <td>0</td>\n",
       "    </tr>\n",
       "    <tr>\n",
       "      <th>2193</th>\n",
       "      <td>NaN</td>\n",
       "      <td>NaN</td>\n",
       "      <td>NaN</td>\n",
       "      <td>0</td>\n",
       "    </tr>\n",
       "    <tr>\n",
       "      <th>2194</th>\n",
       "      <td>NaN</td>\n",
       "      <td>NaN</td>\n",
       "      <td>NaN</td>\n",
       "      <td>0</td>\n",
       "    </tr>\n",
       "    <tr>\n",
       "      <th>2195</th>\n",
       "      <td>NaN</td>\n",
       "      <td>NaN</td>\n",
       "      <td>NaN</td>\n",
       "      <td>0</td>\n",
       "    </tr>\n",
       "  </tbody>\n",
       "</table>\n",
       "<p>2196 rows × 4 columns</p>\n",
       "</div>"
      ],
      "text/plain": [
       "      spread_line  result  outcome  outcome_hm_beat\n",
       "0             8.0   -15.0    -23.0                0\n",
       "1             7.0     9.0      2.0                1\n",
       "2            -6.5    -6.0      0.5                1\n",
       "3             2.5   -20.0    -22.5                0\n",
       "4           -10.0    -3.0      7.0                1\n",
       "...           ...     ...      ...              ...\n",
       "2191          NaN     NaN      NaN                0\n",
       "2192          NaN     NaN      NaN                0\n",
       "2193          NaN     NaN      NaN                0\n",
       "2194          NaN     NaN      NaN                0\n",
       "2195          NaN     NaN      NaN                0\n",
       "\n",
       "[2196 rows x 4 columns]"
      ]
     },
     "execution_count": 259,
     "metadata": {},
     "output_type": "execute_result"
    }
   ],
   "source": [
    "merge[['spread_line','result','outcome','outcome_hm_beat']]"
   ]
  },
  {
   "cell_type": "code",
   "execution_count": 260,
   "metadata": {},
   "outputs": [],
   "source": [
    "Xtrain = train[feats].copy()\n",
    "ytrain = train[target].copy()\n",
    "Xval = val[feats].copy()\n",
    "yval = val[target].copy()"
   ]
  },
  {
   "cell_type": "code",
   "execution_count": 261,
   "metadata": {},
   "outputs": [
    {
     "data": {
      "text/plain": [
       "home_rushing_fumbles_lost      -0.065918\n",
       "away_special_teams_tds         -0.060133\n",
       "diff_passing_air_yards         -0.043850\n",
       "diff_attempts                  -0.041670\n",
       "diff_completions               -0.040821\n",
       "away_sacks                     -0.040036\n",
       "diff_rushing_fumbles           -0.039239\n",
       "diff_interceptions             -0.037258\n",
       "home_receiving_fumbles_lost    -0.035825\n",
       "diff_receiving_air_yards       -0.034664\n",
       "diff_passing_yards             -0.034645\n",
       "home_passing_2pt_conversions   -0.032309\n",
       "home_attempts                  -0.031752\n",
       "diff_passing_first_downs       -0.031314\n",
       "away_sack_yards                -0.030746\n",
       "away_rushing_fumbles_lost      -0.030012\n",
       "away_completions                0.030555\n",
       "away_passing_first_downs        0.031002\n",
       "diff_sacks                      0.031885\n",
       "away_passing_air_yards          0.032274\n",
       "home_rushing_yards              0.033284\n",
       "away_rushing_fumbles            0.033616\n",
       "away_receiving_air_yards        0.034400\n",
       "home_carries                    0.034963\n",
       "away_interceptions              0.035589\n",
       "home_special_teams_tds          0.038339\n",
       "away_passing_2pt_conversions    0.059712\n",
       "Name: outcome, dtype: float64"
      ]
     },
     "execution_count": 261,
     "metadata": {},
     "output_type": "execute_result"
    }
   ],
   "source": [
    "corrs = train[all_feats+[target]].corr()[target].sort_values()\n",
    "\n",
    "corrs[(abs(corrs)>.03)&(abs(corrs)<1)]"
   ]
  },
  {
   "cell_type": "code",
   "execution_count": 262,
   "metadata": {},
   "outputs": [
    {
     "data": {
      "text/plain": [
       "<matplotlib.collections.PathCollection at 0x2b1272a5ed0>"
      ]
     },
     "execution_count": 262,
     "metadata": {},
     "output_type": "execute_result"
    },
    {
     "data": {
      "image/png": "[encoded data removed]",
      "text/plain": [
       "<Figure size 640x480 with 1 Axes>"
      ]
     },
     "metadata": {},
     "output_type": "display_data"
    }
   ],
   "source": [
    "plt.scatter(train['diff_receiving_air_yards'],train['outcome'])"
   ]
  },
  {
   "cell_type": "code",
   "execution_count": 417,
   "metadata": {},
   "outputs": [],
   "source": [
    "from sklearn.feature_selection import SelectKBest,f_regression,VarianceThreshold,f_classif,SequentialFeatureSelector\n",
    "from sklearn.preprocessing import PolynomialFeatures,StandardScaler,QuantileTransformer\n",
    "from sklearn.pipeline import Pipeline\n",
    "from sklearn.metrics import r2_score,accuracy_score\n",
    "\n",
    "from xgboost import XGBRegressor\n",
    "from sklearn.ensemble import RandomForestRegressor,StackingRegressor,RandomForestClassifier\n",
    "from sklearn.linear_model import Ridge,LinearRegression,LogisticRegression,Lasso,ElasticNet\n",
    "from sklearn.neighbors import KNeighborsRegressor,KNeighborsClassifier\n",
    "from sklearn.svm import NuSVR,SVR\n",
    "from sklearn.tree import DecisionTreeRegressor\n",
    "from sklearn.compose import TransformedTargetRegressor\n",
    "\n"
   ]
  },
  {
   "cell_type": "code",
   "execution_count": 525,
   "metadata": {},
   "outputs": [],
   "source": [
    "r1 = RandomForestRegressor(\n",
    "    random_state=42,\n",
    "    n_estimators=250,\n",
    "    #min_samples_leaf=5\n",
    "    max_features=.63,\n",
    "    max_samples=.63,\n",
    "    max_depth=5,\n",
    "    min_samples_split=2,\n",
    "    min_samples_leaf=1,\n",
    "    n_jobs=-1\n",
    ")\n",
    "r1 = XGBRegressor(\n",
    "    random_state=42,\n",
    "    n_jobs=-1,\n",
    "    max_depth=6\n",
    ")\n",
    "r1 = LinearRegression(fit_intercept=False)\n",
    "r1 = Lasso(fit_intercept=False,alpha=10)\n",
    "r1 = ElasticNet(fit_intercept=False,alpha=10)\n",
    "r1 = Ridge(fit_intercept=False,alpha=10)\n",
    "\n",
    "model = Pipeline(\n",
    "    steps=[\n",
    "        ('poly',PolynomialFeatures(degree = (1,2))),\n",
    "        #('thresh',VarianceThreshold(0)),\n",
    "        #('scaler',StandardScaler()),\n",
    "        #('selector',SelectKBest(score_func=f_classif,k=25)),\n",
    "        #('selector',SequentialFeatureSelector(r35,n_features_to_select=20,n_jobs=-1)),\n",
    "        ('learner',r1)\n",
    "    ]\n",
    ")"
   ]
  },
  {
   "cell_type": "code",
   "execution_count": 526,
   "metadata": {},
   "outputs": [
    {
     "data": {
      "text/html": [
       "<style>#sk-container-id-63 {color: black;}#sk-container-id-63 pre{padding: 0;}#sk-container-id-63 div.sk-toggleable {background-color: white;}#sk-container-id-63 label.sk-toggleable__label {cursor: pointer;display: block;width: 100%;margin-bottom: 0;padding: 0.3em;box-sizing: border-box;text-align: center;}#sk-container-id-63 label.sk-toggleable__label-arrow:before {content: \"▸\";float: left;margin-right: 0.25em;color: #696969;}#sk-container-id-63 label.sk-toggleable__label-arrow:hover:before {color: black;}#sk-container-id-63 div.sk-estimator:hover label.sk-toggleable__label-arrow:before {color: black;}#sk-container-id-63 div.sk-toggleable__content {max-height: 0;max-width: 0;overflow: hidden;text-align: left;background-color: #f0f8ff;}#sk-container-id-63 div.sk-toggleable__content pre {margin: 0.2em;color: black;border-radius: 0.25em;background-color: #f0f8ff;}#sk-container-id-63 input.sk-toggleable__control:checked~div.sk-toggleable__content {max-height: 200px;max-width: 100%;overflow: auto;}#sk-container-id-63 input.sk-toggleable__control:checked~label.sk-toggleable__label-arrow:before {content: \"▾\";}#sk-container-id-63 div.sk-estimator input.sk-toggleable__control:checked~label.sk-toggleable__label {background-color: #d4ebff;}#sk-container-id-63 div.sk-label input.sk-toggleable__control:checked~label.sk-toggleable__label {background-color: #d4ebff;}#sk-container-id-63 input.sk-hidden--visually {border: 0;clip: rect(1px 1px 1px 1px);clip: rect(1px, 1px, 1px, 1px);height: 1px;margin: -1px;overflow: hidden;padding: 0;position: absolute;width: 1px;}#sk-container-id-63 div.sk-estimator {font-family: monospace;background-color: #f0f8ff;border: 1px dotted black;border-radius: 0.25em;box-sizing: border-box;margin-bottom: 0.5em;}#sk-container-id-63 div.sk-estimator:hover {background-color: #d4ebff;}#sk-container-id-63 div.sk-parallel-item::after {content: \"\";width: 100%;border-bottom: 1px solid gray;flex-grow: 1;}#sk-container-id-63 div.sk-label:hover label.sk-toggleable__label {background-color: #d4ebff;}#sk-container-id-63 div.sk-serial::before {content: \"\";position: absolute;border-left: 1px solid gray;box-sizing: border-box;top: 0;bottom: 0;left: 50%;z-index: 0;}#sk-container-id-63 div.sk-serial {display: flex;flex-direction: column;align-items: center;background-color: white;padding-right: 0.2em;padding-left: 0.2em;position: relative;}#sk-container-id-63 div.sk-item {position: relative;z-index: 1;}#sk-container-id-63 div.sk-parallel {display: flex;align-items: stretch;justify-content: center;background-color: white;position: relative;}#sk-container-id-63 div.sk-item::before, #sk-container-id-63 div.sk-parallel-item::before {content: \"\";position: absolute;border-left: 1px solid gray;box-sizing: border-box;top: 0;bottom: 0;left: 50%;z-index: -1;}#sk-container-id-63 div.sk-parallel-item {display: flex;flex-direction: column;z-index: 1;position: relative;background-color: white;}#sk-container-id-63 div.sk-parallel-item:first-child::after {align-self: flex-end;width: 50%;}#sk-container-id-63 div.sk-parallel-item:last-child::after {align-self: flex-start;width: 50%;}#sk-container-id-63 div.sk-parallel-item:only-child::after {width: 0;}#sk-container-id-63 div.sk-dashed-wrapped {border: 1px dashed gray;margin: 0 0.4em 0.5em 0.4em;box-sizing: border-box;padding-bottom: 0.4em;background-color: white;}#sk-container-id-63 div.sk-label label {font-family: monospace;font-weight: bold;display: inline-block;line-height: 1.2em;}#sk-container-id-63 div.sk-label-container {text-align: center;}#sk-container-id-63 div.sk-container {/* jupyter's `normalize.less` sets `[hidden] { display: none; }` but bootstrap.min.css set `[hidden] { display: none !important; }` so we also need the `!important` here to be able to override the default hidden behavior on the sphinx rendered scikit-learn.org. See: https://github.com/scikit-learn/scikit-learn/issues/21755 */display: inline-block !important;position: relative;}#sk-container-id-63 div.sk-text-repr-fallback {display: none;}</style><div id=\"sk-container-id-63\" class=\"sk-top-container\"><div class=\"sk-text-repr-fallback\"><pre>Pipeline(steps=[(&#x27;poly&#x27;, PolynomialFeatures(degree=(1, 2))),\n",
       "                (&#x27;learner&#x27;, KNeighborsRegressor())])</pre><b>In a Jupyter environment, please rerun this cell to show the HTML representation or trust the notebook. <br />On GitHub, the HTML representation is unable to render, please try loading this page with nbviewer.org.</b></div><div class=\"sk-container\" hidden><div class=\"sk-item sk-dashed-wrapped\"><div class=\"sk-label-container\"><div class=\"sk-label sk-toggleable\"><input class=\"sk-toggleable__control sk-hidden--visually\" id=\"sk-estimator-id-183\" type=\"checkbox\" ><label for=\"sk-estimator-id-183\" class=\"sk-toggleable__label sk-toggleable__label-arrow\">Pipeline</label><div class=\"sk-toggleable__content\"><pre>Pipeline(steps=[(&#x27;poly&#x27;, PolynomialFeatures(degree=(1, 2))),\n",
       "                (&#x27;learner&#x27;, KNeighborsRegressor())])</pre></div></div></div><div class=\"sk-serial\"><div class=\"sk-item\"><div class=\"sk-estimator sk-toggleable\"><input class=\"sk-toggleable__control sk-hidden--visually\" id=\"sk-estimator-id-184\" type=\"checkbox\" ><label for=\"sk-estimator-id-184\" class=\"sk-toggleable__label sk-toggleable__label-arrow\">PolynomialFeatures</label><div class=\"sk-toggleable__content\"><pre>PolynomialFeatures(degree=(1, 2))</pre></div></div></div><div class=\"sk-item\"><div class=\"sk-estimator sk-toggleable\"><input class=\"sk-toggleable__control sk-hidden--visually\" id=\"sk-estimator-id-185\" type=\"checkbox\" ><label for=\"sk-estimator-id-185\" class=\"sk-toggleable__label sk-toggleable__label-arrow\">KNeighborsRegressor</label><div class=\"sk-toggleable__content\"><pre>KNeighborsRegressor()</pre></div></div></div></div></div></div></div>"
      ],
      "text/plain": [
       "Pipeline(steps=[('poly', PolynomialFeatures(degree=(1, 2))),\n",
       "                ('learner', KNeighborsRegressor())])"
      ]
     },
     "execution_count": 526,
     "metadata": {},
     "output_type": "execute_result"
    }
   ],
   "source": [
    "model.fit(Xtrain,ytrain)"
   ]
  },
  {
   "cell_type": "code",
   "execution_count": 527,
   "metadata": {},
   "outputs": [],
   "source": [
    "yfit = pd.Series(model.predict(Xtrain),index=Xtrain.index)\n",
    "ypred = pd.Series(model.predict(Xval),index=Xval.index)"
   ]
  },
  {
   "cell_type": "code",
   "execution_count": 528,
   "metadata": {},
   "outputs": [],
   "source": [
    "def r2_score_mod(ytrue,ypred,ytrain):\n",
    "\n",
    "    return 1-sum((ytrue - ypred)**2)/sum((ytrue - ytrain.mean())**2)"
   ]
  },
  {
   "cell_type": "code",
   "execution_count": 529,
   "metadata": {},
   "outputs": [
    {
     "data": {
      "text/plain": [
       "-0.13219268617704616"
      ]
     },
     "execution_count": 529,
     "metadata": {},
     "output_type": "execute_result"
    }
   ],
   "source": [
    "r2_score_mod(yval,ypred,ytrain)"
   ]
  },
  {
   "cell_type": "code",
   "execution_count": 530,
   "metadata": {},
   "outputs": [
    {
     "data": {
      "text/plain": [
       "0.21009154566855215"
      ]
     },
     "execution_count": 530,
     "metadata": {},
     "output_type": "execute_result"
    }
   ],
   "source": [
    "r2_score_mod(ytrain,yfit,ytrain)"
   ]
  },
  {
   "cell_type": "code",
   "execution_count": 531,
   "metadata": {},
   "outputs": [
    {
     "name": "stdout",
     "output_type": "stream",
     "text": [
      "res\n",
      "fn       66\n",
      "fp       65\n",
      "other    15\n",
      "tn       71\n",
      "tp       68\n",
      "Name: cnt, dtype: int64\n",
      "8\n",
      "-4\n"
     ]
    }
   ],
   "source": [
    "results = pd.DataFrame(np.where((yval>0)&(ypred>0),'tp',\n",
    "    np.where((yval<0)&(ypred<0),'tn',\n",
    "    np.where((yval<0)&(ypred>0),'fp',\n",
    "    np.where((yval>0)&(ypred<0),'fn','other'\n",
    "         )))),columns=['res'])\n",
    "results['cnt'] = 1\n",
    "print(results.groupby(['res'])['cnt'].count())#/sum(results[results['res']!='other']['cnt']))\n",
    "print(results.groupby(['res'])['cnt'].count()[['tn','tp']].sum() - results.groupby(['res'])['cnt'].count()[['fn','fp']].sum() )\n",
    "print(results.groupby(['res'])['cnt'].count()[['fp','tp']].sum() - results.groupby(['res'])['cnt'].count()[['fn','tn']].sum() )"
   ]
  },
  {
   "cell_type": "code",
   "execution_count": 502,
   "metadata": {},
   "outputs": [
    {
     "data": {
      "image/png": "[encoded data removed]",
      "text/plain": [
       "<Figure size 800x800 with 4 Axes>"
      ]
     },
     "metadata": {},
     "output_type": "display_data"
    }
   ],
   "source": [
    "fig,axs = plt.subplots(2,2,figsize=(8,8))\n",
    "\n",
    "axs[0,0].hist(ytrain,bins=np.linspace(-40,40,40),alpha=.6)\n",
    "axs[0,0].hist(yfit,bins=np.linspace(-40,40,40),alpha=.6)\n",
    "axs[0,1].hist(yval,bins=np.linspace(-40,40,40),alpha=.6)\n",
    "axs[0,1].hist(ypred,bins=np.linspace(-40,40,40),alpha=.6)\n",
    "\n",
    "axs[1,0].scatter(ytrain,yfit)\n",
    "\n",
    "axs[1,1].scatter(yval,ypred)\n",
    "plt.show()\n"
   ]
  },
  {
   "cell_type": "code",
   "execution_count": 255,
   "metadata": {},
   "outputs": [
    {
     "data": {
      "text/plain": [
       "\"\\ntreemod = model['learner']\\n\\n# Plot the decision tree\\nplt.figure(figsize=(20,8))\\nplot_tree(treemod, filled=True, feature_names=list(treemod.feature_names_in_),fontsize=12)\\nplt.show()\\n\\ntree_text = export_text(treemod, feature_names=list(treemod.feature_names_in_))\\nprint(tree_text)\""
      ]
     },
     "execution_count": 255,
     "metadata": {},
     "output_type": "execute_result"
    }
   ],
   "source": [
    "from sklearn.tree import plot_tree,export_text\n",
    "\"\"\"\n",
    "treemod = model['learner']\n",
    "\n",
    "# Plot the decision tree\n",
    "plt.figure(figsize=(20,8))\n",
    "plot_tree(treemod, filled=True, feature_names=list(treemod.feature_names_in_),fontsize=12)\n",
    "plt.show()\n",
    "\n",
    "tree_text = export_text(treemod, feature_names=list(treemod.feature_names_in_))\n",
    "print(tree_text)\"\"\"\n"
   ]
  },
  {
   "cell_type": "code",
   "execution_count": 102,
   "metadata": {},
   "outputs": [
    {
     "data": {
      "text/plain": [
       "0.0"
      ]
     },
     "execution_count": 102,
     "metadata": {},
     "output_type": "execute_result"
    }
   ],
   "source": [
    "(ypred==yval).mean()"
   ]
  },
  {
   "cell_type": "code",
   "execution_count": 103,
   "metadata": {},
   "outputs": [
    {
     "data": {
      "text/plain": [
       "0.0"
      ]
     },
     "execution_count": 103,
     "metadata": {},
     "output_type": "execute_result"
    }
   ],
   "source": [
    "(yfit==ytrain).mean()"
   ]
  },
  {
   "cell_type": "code",
   "execution_count": null,
   "metadata": {},
   "outputs": [],
   "source": [
    "accuracy_score(y_true=yval,y_pred=ypred)"
   ]
  },
  {
   "cell_type": "code",
   "execution_count": 257,
   "metadata": {},
   "outputs": [
    {
     "data": {
      "text/plain": [
       "res\n",
       "fn       0.284133\n",
       "fp       0.273063\n",
       "other    0.051661\n",
       "tn       0.228782\n",
       "tp       0.214022\n",
       "Name: cnt, dtype: float64"
      ]
     },
     "execution_count": 257,
     "metadata": {},
     "output_type": "execute_result"
    }
   ],
   "source": [
    "results = pd.DataFrame(np.where((yval>0)&(ypred>0),'tp',\n",
    "    np.where((yval<0)&(ypred<0),'tn',\n",
    "    np.where((yval<0)&(ypred>0),'fp',\n",
    "    np.where((yval>0)&(ypred<0),'fn','other'\n",
    "         )))),columns=['res'])\n",
    "results['cnt'] = 1\n",
    "results.groupby(['res'])['cnt'].count()/sum(results[results['res']!='other']['cnt'])"
   ]
  },
  {
   "cell_type": "code",
   "execution_count": 209,
   "metadata": {},
   "outputs": [
    {
     "data": {
      "text/plain": [
       "res\n",
       "fn       0.239852\n",
       "fp       0.254613\n",
       "other    0.051661\n",
       "tn       0.247232\n",
       "tp       0.258303\n",
       "Name: cnt, dtype: float64"
      ]
     },
     "execution_count": 209,
     "metadata": {},
     "output_type": "execute_result"
    }
   ],
   "source": []
  },
  {
   "cell_type": "code",
   "execution_count": null,
   "metadata": {},
   "outputs": [],
   "source": []
  }
 ],
 "metadata": {
  "kernelspec": {
   "display_name": ".venv",
   "language": "python",
   "name": "python3"
  },
  "language_info": {
   "codemirror_mode": {
    "name": "ipython",
    "version": 3
   },
   "file_extension": ".py",
   "mimetype": "text/x-python",
   "name": "python",
   "nbconvert_exporter": "python",
   "pygments_lexer": "ipython3",
   "version": "3.11.3"
  }
 },
 "nbformat": 4,
 "nbformat_minor": 2
}
